{
 "cells": [
  {
   "cell_type": "markdown",
   "id": "51f8f91c",
   "metadata": {},
   "source": [
    "## QnA Assistant with Persistent Memory\n",
    "- This is follow-up of Part 1 of simple QnA Bot\n",
    "- Here we will be using Azure cosmosDB as memory to store conversation hostory."
   ]
  },
  {
   "cell_type": "code",
   "execution_count": 1,
   "id": "eb4d19bb",
   "metadata": {},
   "outputs": [
    {
     "name": "stdout",
     "output_type": "stream",
     "text": [
      "Collecting azure-cosmos\n",
      "  Downloading azure_cosmos-4.9.0-py3-none-any.whl (303 kB)\n",
      "     ---------------------------------------- 0.0/303.2 kB ? eta -:--:--\n",
      "     ---- -------------------------------- 41.0/303.2 kB 653.6 kB/s eta 0:00:01\n",
      "     ---------------------------------- --- 276.5/303.2 kB 2.8 MB/s eta 0:00:01\n",
      "     -------------------------------------- 303.2/303.2 kB 2.7 MB/s eta 0:00:00\n",
      "Collecting azure-core>=1.30.0\n",
      "  Downloading azure_core-1.35.1-py3-none-any.whl (211 kB)\n",
      "     ---------------------------------------- 0.0/211.8 kB ? eta -:--:--\n",
      "     -------------------------------------- 211.8/211.8 kB 6.3 MB/s eta 0:00:00\n",
      "Requirement already satisfied: typing-extensions>=4.6.0 in c:\\users\\gusai\\appdata\\local\\programs\\python\\python311\\lib\\site-packages (from azure-cosmos) (4.14.1)\n",
      "Requirement already satisfied: requests>=2.21.0 in c:\\users\\gusai\\appdata\\local\\programs\\python\\python311\\lib\\site-packages (from azure-core>=1.30.0->azure-cosmos) (2.32.5)\n",
      "Requirement already satisfied: six>=1.11.0 in c:\\users\\gusai\\appdata\\local\\programs\\python\\python311\\lib\\site-packages (from azure-core>=1.30.0->azure-cosmos) (1.17.0)\n",
      "Requirement already satisfied: charset_normalizer<4,>=2 in c:\\users\\gusai\\appdata\\local\\programs\\python\\python311\\lib\\site-packages (from requests>=2.21.0->azure-core>=1.30.0->azure-cosmos) (3.4.3)\n",
      "Requirement already satisfied: idna<4,>=2.5 in c:\\users\\gusai\\appdata\\local\\programs\\python\\python311\\lib\\site-packages (from requests>=2.21.0->azure-core>=1.30.0->azure-cosmos) (3.10)\n",
      "Requirement already satisfied: urllib3<3,>=1.21.1 in c:\\users\\gusai\\appdata\\local\\programs\\python\\python311\\lib\\site-packages (from requests>=2.21.0->azure-core>=1.30.0->azure-cosmos) (1.26.14)\n",
      "Requirement already satisfied: certifi>=2017.4.17 in c:\\users\\gusai\\appdata\\local\\programs\\python\\python311\\lib\\site-packages (from requests>=2.21.0->azure-core>=1.30.0->azure-cosmos) (2025.8.3)\n",
      "Installing collected packages: azure-core, azure-cosmos\n",
      "Successfully installed azure-core-1.35.1 azure-cosmos-4.9.0\n",
      "Note: you may need to restart the kernel to use updated packages.\n"
     ]
    },
    {
     "name": "stderr",
     "output_type": "stream",
     "text": [
      "\n",
      "[notice] A new release of pip is available: 23.0.1 -> 25.2\n",
      "[notice] To update, run: python.exe -m pip install --upgrade pip\n"
     ]
    }
   ],
   "source": [
    "# install azure cosmos package\n",
    "%pip install azure-cosmos"
   ]
  },
  {
   "cell_type": "markdown",
   "id": "311407e4",
   "metadata": {},
   "source": [
    "### Import Libraries"
   ]
  },
  {
   "cell_type": "code",
   "execution_count": 2,
   "id": "b006c252",
   "metadata": {},
   "outputs": [],
   "source": [
    "import os, uuid, json\n",
    "from dotenv import load_dotenv\n",
    "from azure.cosmos import CosmosClient\n",
    "from openai import OpenAI"
   ]
  },
  {
   "cell_type": "markdown",
   "id": "804d731f",
   "metadata": {},
   "source": [
    "### Initialize Clients"
   ]
  },
  {
   "cell_type": "code",
   "execution_count": 3,
   "id": "a433055c",
   "metadata": {},
   "outputs": [
    {
     "ename": "ServiceRequestError",
     "evalue": "Invalid URL '': No scheme supplied. Perhaps you meant https://?",
     "output_type": "error",
     "traceback": [
      "\u001b[31m---------------------------------------------------------------------------\u001b[39m",
      "\u001b[31mServiceRequestError\u001b[39m                       Traceback (most recent call last)",
      "\u001b[36mCell\u001b[39m\u001b[36m \u001b[39m\u001b[32mIn[3]\u001b[39m\u001b[32m, line 10\u001b[39m\n\u001b[32m      8\u001b[39m cosmosdb_endpoint = os.getenv(\u001b[33m\"\u001b[39m\u001b[33mCOSMOSDB_ENDPOINT\u001b[39m\u001b[33m\"\u001b[39m)\n\u001b[32m      9\u001b[39m cosmosdb_api_key = os.getenv(\u001b[33m\"\u001b[39m\u001b[33mCOSMOSDB_API_KEY\u001b[39m\u001b[33m\"\u001b[39m)\n\u001b[32m---> \u001b[39m\u001b[32m10\u001b[39m cosmos_client = \u001b[43mCosmosClient\u001b[49m\u001b[43m(\u001b[49m\u001b[43mcosmosdb_endpoint\u001b[49m\u001b[43m,\u001b[49m\u001b[43m \u001b[49m\u001b[43mcosmosdb_api_key\u001b[49m\u001b[43m)\u001b[49m\n\u001b[32m     12\u001b[39m \u001b[38;5;66;03m# Establish connection to specific DB and container within it\u001b[39;00m\n\u001b[32m     13\u001b[39m database = cosmos_client.get_database_client(\u001b[33m'\u001b[39m\u001b[33mmydatabase\u001b[39m\u001b[33m'\u001b[39m)\n",
      "\u001b[36mFile \u001b[39m\u001b[32mc:\\Users\\gusai\\AppData\\Local\\Programs\\Python\\Python311\\Lib\\site-packages\\azure\\cosmos\\cosmos_client.py:205\u001b[39m, in \u001b[36mCosmosClient.__init__\u001b[39m\u001b[34m(self, url, credential, consistency_level, **kwargs)\u001b[39m\n\u001b[32m    203\u001b[39m auth = _build_auth(credential)\n\u001b[32m    204\u001b[39m connection_policy = _build_connection_policy(kwargs)\n\u001b[32m--> \u001b[39m\u001b[32m205\u001b[39m \u001b[38;5;28mself\u001b[39m.client_connection = \u001b[43mCosmosClientConnection\u001b[49m\u001b[43m(\u001b[49m\n\u001b[32m    206\u001b[39m \u001b[43m    \u001b[49m\u001b[43murl\u001b[49m\u001b[43m,\u001b[49m\u001b[43m \u001b[49m\u001b[43mauth\u001b[49m\u001b[43m=\u001b[49m\u001b[43mauth\u001b[49m\u001b[43m,\u001b[49m\u001b[43m \u001b[49m\u001b[43mconsistency_level\u001b[49m\u001b[43m=\u001b[49m\u001b[43mconsistency_level\u001b[49m\u001b[43m,\u001b[49m\u001b[43m \u001b[49m\u001b[43mconnection_policy\u001b[49m\u001b[43m=\u001b[49m\u001b[43mconnection_policy\u001b[49m\u001b[43m,\u001b[49m\u001b[43m \u001b[49m\u001b[43m*\u001b[49m\u001b[43m*\u001b[49m\u001b[43mkwargs\u001b[49m\n\u001b[32m    207\u001b[39m \u001b[43m\u001b[49m\u001b[43m)\u001b[49m\n",
      "\u001b[36mFile \u001b[39m\u001b[32mc:\\Users\\gusai\\AppData\\Local\\Programs\\Python\\Python311\\Lib\\site-packages\\azure\\cosmos\\_cosmos_client_connection.py:232\u001b[39m, in \u001b[36mCosmosClientConnection.__init__\u001b[39m\u001b[34m(self, url_connection, auth, connection_policy, consistency_level, **kwargs)\u001b[39m\n\u001b[32m    229\u001b[39m \u001b[38;5;66;03m# Routing map provider\u001b[39;00m\n\u001b[32m    230\u001b[39m \u001b[38;5;28mself\u001b[39m._routing_map_provider = routing_map_provider.SmartRoutingMapProvider(\u001b[38;5;28mself\u001b[39m)\n\u001b[32m--> \u001b[39m\u001b[32m232\u001b[39m database_account = \u001b[38;5;28;43mself\u001b[39;49m\u001b[43m.\u001b[49m\u001b[43m_global_endpoint_manager\u001b[49m\u001b[43m.\u001b[49m\u001b[43m_GetDatabaseAccount\u001b[49m\u001b[43m(\u001b[49m\u001b[43m*\u001b[49m\u001b[43m*\u001b[49m\u001b[43mkwargs\u001b[49m\u001b[43m)\u001b[49m\n\u001b[32m    233\u001b[39m \u001b[38;5;28mself\u001b[39m._global_endpoint_manager.force_refresh(database_account)\n\u001b[32m    235\u001b[39m \u001b[38;5;66;03m# Use database_account if no consistency passed in to verify consistency level to be used\u001b[39;00m\n",
      "\u001b[36mFile \u001b[39m\u001b[32mc:\\Users\\gusai\\AppData\\Local\\Programs\\Python\\Python311\\Lib\\site-packages\\azure\\cosmos\\_global_endpoint_manager.py:127\u001b[39m, in \u001b[36m_GlobalEndpointManager._GetDatabaseAccount\u001b[39m\u001b[34m(self, **kwargs)\u001b[39m\n\u001b[32m    118\u001b[39m \u001b[38;5;250m\u001b[39m\u001b[33;03m\"\"\"Gets the database account.\u001b[39;00m\n\u001b[32m    119\u001b[39m \n\u001b[32m    120\u001b[39m \u001b[33;03mFirst tries by using the default endpoint, and if that doesn't work,\u001b[39;00m\n\u001b[32m   (...)\u001b[39m\u001b[32m    124\u001b[39m \u001b[33;03m:rtype: ~azure.cosmos.DatabaseAccount\u001b[39;00m\n\u001b[32m    125\u001b[39m \u001b[33;03m\"\"\"\u001b[39;00m\n\u001b[32m    126\u001b[39m \u001b[38;5;28;01mtry\u001b[39;00m:\n\u001b[32m--> \u001b[39m\u001b[32m127\u001b[39m     database_account = \u001b[38;5;28;43mself\u001b[39;49m\u001b[43m.\u001b[49m\u001b[43m_GetDatabaseAccountStub\u001b[49m\u001b[43m(\u001b[49m\u001b[38;5;28;43mself\u001b[39;49m\u001b[43m.\u001b[49m\u001b[43mDefaultEndpoint\u001b[49m\u001b[43m,\u001b[49m\u001b[43m \u001b[49m\u001b[43m*\u001b[49m\u001b[43m*\u001b[49m\u001b[43mkwargs\u001b[49m\u001b[43m)\u001b[49m\n\u001b[32m    128\u001b[39m     \u001b[38;5;28;01mreturn\u001b[39;00m database_account\n\u001b[32m    129\u001b[39m \u001b[38;5;66;03m# If for any reason(non-globaldb related), we are not able to get the database\u001b[39;00m\n\u001b[32m    130\u001b[39m \u001b[38;5;66;03m# account from the above call to GetDatabaseAccount, we would try to get this\u001b[39;00m\n\u001b[32m    131\u001b[39m \u001b[38;5;66;03m# information from any of the preferred locations that the user might have\u001b[39;00m\n\u001b[32m    132\u001b[39m \u001b[38;5;66;03m# specified (by creating a locational endpoint) and keeping eating the exception\u001b[39;00m\n\u001b[32m    133\u001b[39m \u001b[38;5;66;03m# until we get the database account and return None at the end, if we are not able\u001b[39;00m\n\u001b[32m    134\u001b[39m \u001b[38;5;66;03m# to get that info from any endpoints\u001b[39;00m\n",
      "\u001b[36mFile \u001b[39m\u001b[32mc:\\Users\\gusai\\AppData\\Local\\Programs\\Python\\Python311\\Lib\\site-packages\\azure\\cosmos\\_global_endpoint_manager.py:153\u001b[39m, in \u001b[36m_GlobalEndpointManager._GetDatabaseAccountStub\u001b[39m\u001b[34m(self, endpoint, **kwargs)\u001b[39m\n\u001b[32m    145\u001b[39m \u001b[38;5;28;01mdef\u001b[39;00m \u001b[34m_GetDatabaseAccountStub\u001b[39m(\u001b[38;5;28mself\u001b[39m, endpoint, **kwargs):\n\u001b[32m    146\u001b[39m \u001b[38;5;250m    \u001b[39m\u001b[33;03m\"\"\"Stub for getting database account from the client.\u001b[39;00m\n\u001b[32m    147\u001b[39m \u001b[33;03m    This can be used for mocking purposes as well.\u001b[39;00m\n\u001b[32m    148\u001b[39m \n\u001b[32m   (...)\u001b[39m\u001b[32m    151\u001b[39m \u001b[33;03m    :rtype: ~azure.cosmos.DatabaseAccount\u001b[39;00m\n\u001b[32m    152\u001b[39m \u001b[33;03m    \"\"\"\u001b[39;00m\n\u001b[32m--> \u001b[39m\u001b[32m153\u001b[39m     \u001b[38;5;28;01mreturn\u001b[39;00m \u001b[38;5;28;43mself\u001b[39;49m\u001b[43m.\u001b[49m\u001b[43mClient\u001b[49m\u001b[43m.\u001b[49m\u001b[43mGetDatabaseAccount\u001b[49m\u001b[43m(\u001b[49m\u001b[43mendpoint\u001b[49m\u001b[43m,\u001b[49m\u001b[43m \u001b[49m\u001b[43m*\u001b[49m\u001b[43m*\u001b[49m\u001b[43mkwargs\u001b[49m\u001b[43m)\u001b[49m\n",
      "\u001b[36mFile \u001b[39m\u001b[32mc:\\Users\\gusai\\AppData\\Local\\Programs\\Python\\Python311\\Lib\\site-packages\\azure\\cosmos\\_cosmos_client_connection.py:2551\u001b[39m, in \u001b[36mCosmosClientConnection.GetDatabaseAccount\u001b[39m\u001b[34m(self, url_connection, **kwargs)\u001b[39m\n\u001b[32m   2549\u001b[39m headers = base.GetHeaders(\u001b[38;5;28mself\u001b[39m, \u001b[38;5;28mself\u001b[39m.default_headers, \u001b[33m\"\u001b[39m\u001b[33mget\u001b[39m\u001b[33m\"\u001b[39m, \u001b[33m\"\u001b[39m\u001b[33m\"\u001b[39m, \u001b[33m\"\u001b[39m\u001b[33m\"\u001b[39m, \u001b[33m\"\u001b[39m\u001b[33m\"\u001b[39m, {})\n\u001b[32m   2550\u001b[39m request_params = RequestObject(\u001b[33m\"\u001b[39m\u001b[33mdatabaseaccount\u001b[39m\u001b[33m\"\u001b[39m, documents._OperationType.Read, url_connection)\n\u001b[32m-> \u001b[39m\u001b[32m2551\u001b[39m result, last_response_headers = \u001b[38;5;28;43mself\u001b[39;49m\u001b[43m.\u001b[49m\u001b[43m__Get\u001b[49m\u001b[43m(\u001b[49m\u001b[33;43m\"\u001b[39;49m\u001b[33;43m\"\u001b[39;49m\u001b[43m,\u001b[49m\u001b[43m \u001b[49m\u001b[43mrequest_params\u001b[49m\u001b[43m,\u001b[49m\u001b[43m \u001b[49m\u001b[43mheaders\u001b[49m\u001b[43m,\u001b[49m\u001b[43m \u001b[49m\u001b[43m*\u001b[49m\u001b[43m*\u001b[49m\u001b[43mkwargs\u001b[49m\u001b[43m)\u001b[49m\n\u001b[32m   2552\u001b[39m \u001b[38;5;28mself\u001b[39m.last_response_headers = last_response_headers\n\u001b[32m   2553\u001b[39m database_account = DatabaseAccount()\n",
      "\u001b[36mFile \u001b[39m\u001b[32mc:\\Users\\gusai\\AppData\\Local\\Programs\\Python\\Python311\\Lib\\site-packages\\azure\\cosmos\\_cosmos_client_connection.py:2808\u001b[39m, in \u001b[36mCosmosClientConnection.__Get\u001b[39m\u001b[34m(self, path, request_params, req_headers, **kwargs)\u001b[39m\n\u001b[32m   2799\u001b[39m \u001b[38;5;250m\u001b[39m\u001b[33;03m\"\"\"Azure Cosmos 'GET' http request.\u001b[39;00m\n\u001b[32m   2800\u001b[39m \n\u001b[32m   2801\u001b[39m \u001b[33;03m:param str path: the url to be used for the request.\u001b[39;00m\n\u001b[32m   (...)\u001b[39m\u001b[32m   2805\u001b[39m \u001b[33;03m:rtype: tuple of (dict, dict)\u001b[39;00m\n\u001b[32m   2806\u001b[39m \u001b[33;03m\"\"\"\u001b[39;00m\n\u001b[32m   2807\u001b[39m request = \u001b[38;5;28mself\u001b[39m.pipeline_client.get(url=path, headers=req_headers)\n\u001b[32m-> \u001b[39m\u001b[32m2808\u001b[39m \u001b[38;5;28;01mreturn\u001b[39;00m \u001b[43msynchronized_request\u001b[49m\u001b[43m.\u001b[49m\u001b[43mSynchronizedRequest\u001b[49m\u001b[43m(\u001b[49m\n\u001b[32m   2809\u001b[39m \u001b[43m    \u001b[49m\u001b[43mclient\u001b[49m\u001b[43m=\u001b[49m\u001b[38;5;28;43mself\u001b[39;49m\u001b[43m,\u001b[49m\n\u001b[32m   2810\u001b[39m \u001b[43m    \u001b[49m\u001b[43mrequest_params\u001b[49m\u001b[43m=\u001b[49m\u001b[43mrequest_params\u001b[49m\u001b[43m,\u001b[49m\n\u001b[32m   2811\u001b[39m \u001b[43m    \u001b[49m\u001b[43mglobal_endpoint_manager\u001b[49m\u001b[43m=\u001b[49m\u001b[38;5;28;43mself\u001b[39;49m\u001b[43m.\u001b[49m\u001b[43m_global_endpoint_manager\u001b[49m\u001b[43m,\u001b[49m\n\u001b[32m   2812\u001b[39m \u001b[43m    \u001b[49m\u001b[43mconnection_policy\u001b[49m\u001b[43m=\u001b[49m\u001b[38;5;28;43mself\u001b[39;49m\u001b[43m.\u001b[49m\u001b[43mconnection_policy\u001b[49m\u001b[43m,\u001b[49m\n\u001b[32m   2813\u001b[39m \u001b[43m    \u001b[49m\u001b[43mpipeline_client\u001b[49m\u001b[43m=\u001b[49m\u001b[38;5;28;43mself\u001b[39;49m\u001b[43m.\u001b[49m\u001b[43mpipeline_client\u001b[49m\u001b[43m,\u001b[49m\n\u001b[32m   2814\u001b[39m \u001b[43m    \u001b[49m\u001b[43mrequest\u001b[49m\u001b[43m=\u001b[49m\u001b[43mrequest\u001b[49m\u001b[43m,\u001b[49m\n\u001b[32m   2815\u001b[39m \u001b[43m    \u001b[49m\u001b[43mrequest_data\u001b[49m\u001b[43m=\u001b[49m\u001b[38;5;28;43;01mNone\u001b[39;49;00m\u001b[43m,\u001b[49m\n\u001b[32m   2816\u001b[39m \u001b[43m    \u001b[49m\u001b[43m*\u001b[49m\u001b[43m*\u001b[49m\u001b[43mkwargs\u001b[49m\n\u001b[32m   2817\u001b[39m \u001b[43m\u001b[49m\u001b[43m)\u001b[49m\n",
      "\u001b[36mFile \u001b[39m\u001b[32mc:\\Users\\gusai\\AppData\\Local\\Programs\\Python\\Python311\\Lib\\site-packages\\azure\\cosmos\\_synchronized_request.py:214\u001b[39m, in \u001b[36mSynchronizedRequest\u001b[39m\u001b[34m(client, request_params, global_endpoint_manager, connection_policy, pipeline_client, request, request_data, **kwargs)\u001b[39m\n\u001b[32m    211\u001b[39m     request.headers[http_constants.HttpHeaders.ContentLength] = \u001b[32m0\u001b[39m\n\u001b[32m    213\u001b[39m \u001b[38;5;66;03m# Pass _Request function with its parameters to retry_utility's Execute method that wraps the call with retries\u001b[39;00m\n\u001b[32m--> \u001b[39m\u001b[32m214\u001b[39m \u001b[38;5;28;01mreturn\u001b[39;00m \u001b[43m_retry_utility\u001b[49m\u001b[43m.\u001b[49m\u001b[43mExecute\u001b[49m\u001b[43m(\u001b[49m\n\u001b[32m    215\u001b[39m \u001b[43m    \u001b[49m\u001b[43mclient\u001b[49m\u001b[43m,\u001b[49m\n\u001b[32m    216\u001b[39m \u001b[43m    \u001b[49m\u001b[43mglobal_endpoint_manager\u001b[49m\u001b[43m,\u001b[49m\n\u001b[32m    217\u001b[39m \u001b[43m    \u001b[49m\u001b[43m_Request\u001b[49m\u001b[43m,\u001b[49m\n\u001b[32m    218\u001b[39m \u001b[43m    \u001b[49m\u001b[43mrequest_params\u001b[49m\u001b[43m,\u001b[49m\n\u001b[32m    219\u001b[39m \u001b[43m    \u001b[49m\u001b[43mconnection_policy\u001b[49m\u001b[43m,\u001b[49m\n\u001b[32m    220\u001b[39m \u001b[43m    \u001b[49m\u001b[43mpipeline_client\u001b[49m\u001b[43m,\u001b[49m\n\u001b[32m    221\u001b[39m \u001b[43m    \u001b[49m\u001b[43mrequest\u001b[49m\u001b[43m,\u001b[49m\n\u001b[32m    222\u001b[39m \u001b[43m    \u001b[49m\u001b[43m*\u001b[49m\u001b[43m*\u001b[49m\u001b[43mkwargs\u001b[49m\n\u001b[32m    223\u001b[39m \u001b[43m\u001b[49m\u001b[43m)\u001b[49m\n",
      "\u001b[36mFile \u001b[39m\u001b[32mc:\\Users\\gusai\\AppData\\Local\\Programs\\Python\\Python311\\Lib\\site-packages\\azure\\cosmos\\_retry_utility.py:97\u001b[39m, in \u001b[36mExecute\u001b[39m\u001b[34m(client, global_endpoint_manager, function, *args, **kwargs)\u001b[39m\n\u001b[32m     95\u001b[39m \u001b[38;5;28;01mtry\u001b[39;00m:\n\u001b[32m     96\u001b[39m     \u001b[38;5;28;01mif\u001b[39;00m args:\n\u001b[32m---> \u001b[39m\u001b[32m97\u001b[39m         result = \u001b[43mExecuteFunction\u001b[49m\u001b[43m(\u001b[49m\u001b[43mfunction\u001b[49m\u001b[43m,\u001b[49m\u001b[43m \u001b[49m\u001b[43mglobal_endpoint_manager\u001b[49m\u001b[43m,\u001b[49m\u001b[43m \u001b[49m\u001b[43m*\u001b[49m\u001b[43margs\u001b[49m\u001b[43m,\u001b[49m\u001b[43m \u001b[49m\u001b[43m*\u001b[49m\u001b[43m*\u001b[49m\u001b[43mkwargs\u001b[49m\u001b[43m)\u001b[49m\n\u001b[32m     98\u001b[39m     \u001b[38;5;28;01melse\u001b[39;00m:\n\u001b[32m     99\u001b[39m         result = ExecuteFunction(function, *args, **kwargs)\n",
      "\u001b[36mFile \u001b[39m\u001b[32mc:\\Users\\gusai\\AppData\\Local\\Programs\\Python\\Python311\\Lib\\site-packages\\azure\\cosmos\\_retry_utility.py:199\u001b[39m, in \u001b[36mExecuteFunction\u001b[39m\u001b[34m(function, *args, **kwargs)\u001b[39m\n\u001b[32m    192\u001b[39m \u001b[38;5;28;01mdef\u001b[39;00m \u001b[34mExecuteFunction\u001b[39m(function, *args, **kwargs):\n\u001b[32m    193\u001b[39m \u001b[38;5;250m    \u001b[39m\u001b[33;03m\"\"\"Stub method so that it can be used for mocking purposes as well.\u001b[39;00m\n\u001b[32m    194\u001b[39m \u001b[33;03m    :param Callable function: the function to execute.\u001b[39;00m\n\u001b[32m    195\u001b[39m \u001b[33;03m    :param list args: the explicit arguments for the function.\u001b[39;00m\n\u001b[32m    196\u001b[39m \u001b[33;03m    :returns: the result of executing the function with the passed in arguments\u001b[39;00m\n\u001b[32m    197\u001b[39m \u001b[33;03m    :rtype: tuple(dict, dict)\u001b[39;00m\n\u001b[32m    198\u001b[39m \u001b[33;03m    \"\"\"\u001b[39;00m\n\u001b[32m--> \u001b[39m\u001b[32m199\u001b[39m     \u001b[38;5;28;01mreturn\u001b[39;00m \u001b[43mfunction\u001b[49m\u001b[43m(\u001b[49m\u001b[43m*\u001b[49m\u001b[43margs\u001b[49m\u001b[43m,\u001b[49m\u001b[43m \u001b[49m\u001b[43m*\u001b[49m\u001b[43m*\u001b[49m\u001b[43mkwargs\u001b[49m\u001b[43m)\u001b[49m\n",
      "\u001b[36mFile \u001b[39m\u001b[32mc:\\Users\\gusai\\AppData\\Local\\Programs\\Python\\Python311\\Lib\\site-packages\\azure\\cosmos\\_synchronized_request.py:131\u001b[39m, in \u001b[36m_Request\u001b[39m\u001b[34m(global_endpoint_manager, request_params, connection_policy, pipeline_client, request, **kwargs)\u001b[39m\n\u001b[32m    122\u001b[39m     response = _PipelineRunFunction(\n\u001b[32m    123\u001b[39m         pipeline_client,\n\u001b[32m    124\u001b[39m         request,\n\u001b[32m   (...)\u001b[39m\u001b[32m    128\u001b[39m         **kwargs\n\u001b[32m    129\u001b[39m     )\n\u001b[32m    130\u001b[39m \u001b[38;5;28;01melse\u001b[39;00m:\n\u001b[32m--> \u001b[39m\u001b[32m131\u001b[39m     response = \u001b[43m_PipelineRunFunction\u001b[49m\u001b[43m(\u001b[49m\n\u001b[32m    132\u001b[39m \u001b[43m        \u001b[49m\u001b[43mpipeline_client\u001b[49m\u001b[43m,\u001b[49m\n\u001b[32m    133\u001b[39m \u001b[43m        \u001b[49m\u001b[43mrequest\u001b[49m\u001b[43m,\u001b[49m\n\u001b[32m    134\u001b[39m \u001b[43m        \u001b[49m\u001b[43mconnection_timeout\u001b[49m\u001b[43m=\u001b[49m\u001b[43mconnection_timeout\u001b[49m\u001b[43m,\u001b[49m\n\u001b[32m    135\u001b[39m \u001b[43m        \u001b[49m\u001b[38;5;66;43;03m# If SSL is disabled, verify = false\u001b[39;49;00m\n\u001b[32m    136\u001b[39m \u001b[43m        \u001b[49m\u001b[43mconnection_verify\u001b[49m\u001b[43m=\u001b[49m\u001b[43mkwargs\u001b[49m\u001b[43m.\u001b[49m\u001b[43mpop\u001b[49m\u001b[43m(\u001b[49m\u001b[33;43m\"\u001b[39;49m\u001b[33;43mconnection_verify\u001b[39;49m\u001b[33;43m\"\u001b[39;49m\u001b[43m,\u001b[49m\u001b[43m \u001b[49m\u001b[43mis_ssl_enabled\u001b[49m\u001b[43m)\u001b[49m\u001b[43m,\u001b[49m\n\u001b[32m    137\u001b[39m \u001b[43m        \u001b[49m\u001b[43m*\u001b[49m\u001b[43m*\u001b[49m\u001b[43mkwargs\u001b[49m\n\u001b[32m    138\u001b[39m \u001b[43m    \u001b[49m\u001b[43m)\u001b[49m\n\u001b[32m    140\u001b[39m response = response.http_response\n\u001b[32m    141\u001b[39m headers = copy.copy(response.headers)\n",
      "\u001b[36mFile \u001b[39m\u001b[32mc:\\Users\\gusai\\AppData\\Local\\Programs\\Python\\Python311\\Lib\\site-packages\\azure\\cosmos\\_synchronized_request.py:183\u001b[39m, in \u001b[36m_PipelineRunFunction\u001b[39m\u001b[34m(pipeline_client, request, **kwargs)\u001b[39m\n\u001b[32m    180\u001b[39m \u001b[38;5;28;01mdef\u001b[39;00m \u001b[34m_PipelineRunFunction\u001b[39m(pipeline_client, request, **kwargs):\n\u001b[32m    181\u001b[39m     \u001b[38;5;66;03m# pylint: disable=protected-access\u001b[39;00m\n\u001b[32m--> \u001b[39m\u001b[32m183\u001b[39m     \u001b[38;5;28;01mreturn\u001b[39;00m \u001b[43mpipeline_client\u001b[49m\u001b[43m.\u001b[49m\u001b[43m_pipeline\u001b[49m\u001b[43m.\u001b[49m\u001b[43mrun\u001b[49m\u001b[43m(\u001b[49m\u001b[43mrequest\u001b[49m\u001b[43m,\u001b[49m\u001b[43m \u001b[49m\u001b[43m*\u001b[49m\u001b[43m*\u001b[49m\u001b[43mkwargs\u001b[49m\u001b[43m)\u001b[49m\n",
      "\u001b[36mFile \u001b[39m\u001b[32mc:\\Users\\gusai\\AppData\\Local\\Programs\\Python\\Python311\\Lib\\site-packages\\azure\\core\\pipeline\\_base.py:242\u001b[39m, in \u001b[36mPipeline.run\u001b[39m\u001b[34m(self, request, **kwargs)\u001b[39m\n\u001b[32m    240\u001b[39m pipeline_request: PipelineRequest[HTTPRequestType] = PipelineRequest(request, context)\n\u001b[32m    241\u001b[39m first_node = \u001b[38;5;28mself\u001b[39m._impl_policies[\u001b[32m0\u001b[39m] \u001b[38;5;28;01mif\u001b[39;00m \u001b[38;5;28mself\u001b[39m._impl_policies \u001b[38;5;28;01melse\u001b[39;00m _TransportRunner(\u001b[38;5;28mself\u001b[39m._transport)\n\u001b[32m--> \u001b[39m\u001b[32m242\u001b[39m \u001b[38;5;28;01mreturn\u001b[39;00m \u001b[43mfirst_node\u001b[49m\u001b[43m.\u001b[49m\u001b[43msend\u001b[49m\u001b[43m(\u001b[49m\u001b[43mpipeline_request\u001b[49m\u001b[43m)\u001b[49m\n",
      "\u001b[36mFile \u001b[39m\u001b[32mc:\\Users\\gusai\\AppData\\Local\\Programs\\Python\\Python311\\Lib\\site-packages\\azure\\core\\pipeline\\_base.py:98\u001b[39m, in \u001b[36m_SansIOHTTPPolicyRunner.send\u001b[39m\u001b[34m(self, request)\u001b[39m\n\u001b[32m     96\u001b[39m _await_result(\u001b[38;5;28mself\u001b[39m._policy.on_request, request)\n\u001b[32m     97\u001b[39m \u001b[38;5;28;01mtry\u001b[39;00m:\n\u001b[32m---> \u001b[39m\u001b[32m98\u001b[39m     response = \u001b[38;5;28;43mself\u001b[39;49m\u001b[43m.\u001b[49m\u001b[43mnext\u001b[49m\u001b[43m.\u001b[49m\u001b[43msend\u001b[49m\u001b[43m(\u001b[49m\u001b[43mrequest\u001b[49m\u001b[43m)\u001b[49m\n\u001b[32m     99\u001b[39m \u001b[38;5;28;01mexcept\u001b[39;00m \u001b[38;5;167;01mException\u001b[39;00m:\n\u001b[32m    100\u001b[39m     _await_result(\u001b[38;5;28mself\u001b[39m._policy.on_exception, request)\n",
      "\u001b[36mFile \u001b[39m\u001b[32mc:\\Users\\gusai\\AppData\\Local\\Programs\\Python\\Python311\\Lib\\site-packages\\azure\\core\\pipeline\\_base.py:98\u001b[39m, in \u001b[36m_SansIOHTTPPolicyRunner.send\u001b[39m\u001b[34m(self, request)\u001b[39m\n\u001b[32m     96\u001b[39m _await_result(\u001b[38;5;28mself\u001b[39m._policy.on_request, request)\n\u001b[32m     97\u001b[39m \u001b[38;5;28;01mtry\u001b[39;00m:\n\u001b[32m---> \u001b[39m\u001b[32m98\u001b[39m     response = \u001b[38;5;28;43mself\u001b[39;49m\u001b[43m.\u001b[49m\u001b[43mnext\u001b[49m\u001b[43m.\u001b[49m\u001b[43msend\u001b[49m\u001b[43m(\u001b[49m\u001b[43mrequest\u001b[49m\u001b[43m)\u001b[49m\n\u001b[32m     99\u001b[39m \u001b[38;5;28;01mexcept\u001b[39;00m \u001b[38;5;167;01mException\u001b[39;00m:\n\u001b[32m    100\u001b[39m     _await_result(\u001b[38;5;28mself\u001b[39m._policy.on_exception, request)\n",
      "    \u001b[31m[... skipping similar frames: _SansIOHTTPPolicyRunner.send at line 98 (1 times)]\u001b[39m\n",
      "\u001b[36mFile \u001b[39m\u001b[32mc:\\Users\\gusai\\AppData\\Local\\Programs\\Python\\Python311\\Lib\\site-packages\\azure\\core\\pipeline\\_base.py:98\u001b[39m, in \u001b[36m_SansIOHTTPPolicyRunner.send\u001b[39m\u001b[34m(self, request)\u001b[39m\n\u001b[32m     96\u001b[39m _await_result(\u001b[38;5;28mself\u001b[39m._policy.on_request, request)\n\u001b[32m     97\u001b[39m \u001b[38;5;28;01mtry\u001b[39;00m:\n\u001b[32m---> \u001b[39m\u001b[32m98\u001b[39m     response = \u001b[38;5;28;43mself\u001b[39;49m\u001b[43m.\u001b[49m\u001b[43mnext\u001b[49m\u001b[43m.\u001b[49m\u001b[43msend\u001b[49m\u001b[43m(\u001b[49m\u001b[43mrequest\u001b[49m\u001b[43m)\u001b[49m\n\u001b[32m     99\u001b[39m \u001b[38;5;28;01mexcept\u001b[39;00m \u001b[38;5;167;01mException\u001b[39;00m:\n\u001b[32m    100\u001b[39m     _await_result(\u001b[38;5;28mself\u001b[39m._policy.on_exception, request)\n",
      "\u001b[36mFile \u001b[39m\u001b[32mc:\\Users\\gusai\\AppData\\Local\\Programs\\Python\\Python311\\Lib\\site-packages\\azure\\cosmos\\_retry_utility.py:271\u001b[39m, in \u001b[36mConnectionRetryPolicy.send\u001b[39m\u001b[34m(self, request)\u001b[39m\n\u001b[32m    269\u001b[39m             \u001b[38;5;28mself\u001b[39m.sleep(retry_settings, request.context.transport)\n\u001b[32m    270\u001b[39m             \u001b[38;5;28;01mcontinue\u001b[39;00m\n\u001b[32m--> \u001b[39m\u001b[32m271\u001b[39m     \u001b[38;5;28;01mraise\u001b[39;00m err\n\u001b[32m    272\u001b[39m \u001b[38;5;28;01mexcept\u001b[39;00m AzureError \u001b[38;5;28;01mas\u001b[39;00m err:\n\u001b[32m    273\u001b[39m     retry_error = err\n",
      "\u001b[36mFile \u001b[39m\u001b[32mc:\\Users\\gusai\\AppData\\Local\\Programs\\Python\\Python311\\Lib\\site-packages\\azure\\cosmos\\_retry_utility.py:247\u001b[39m, in \u001b[36mConnectionRetryPolicy.send\u001b[39m\u001b[34m(self, request)\u001b[39m\n\u001b[32m    244\u001b[39m \u001b[38;5;28;01mtry\u001b[39;00m:\n\u001b[32m    245\u001b[39m     _configure_timeout(request, absolute_timeout, per_request_timeout)\n\u001b[32m--> \u001b[39m\u001b[32m247\u001b[39m     response = \u001b[38;5;28;43mself\u001b[39;49m\u001b[43m.\u001b[49m\u001b[43mnext\u001b[49m\u001b[43m.\u001b[49m\u001b[43msend\u001b[49m\u001b[43m(\u001b[49m\u001b[43mrequest\u001b[49m\u001b[43m)\u001b[49m\n\u001b[32m    248\u001b[39m     \u001b[38;5;28;01mif\u001b[39;00m \u001b[38;5;28mself\u001b[39m.is_retry(retry_settings, response):\n\u001b[32m    249\u001b[39m         retry_active = \u001b[38;5;28mself\u001b[39m.increment(retry_settings, response=response)\n",
      "\u001b[36mFile \u001b[39m\u001b[32mc:\\Users\\gusai\\AppData\\Local\\Programs\\Python\\Python311\\Lib\\site-packages\\azure\\core\\pipeline\\_base.py:98\u001b[39m, in \u001b[36m_SansIOHTTPPolicyRunner.send\u001b[39m\u001b[34m(self, request)\u001b[39m\n\u001b[32m     96\u001b[39m _await_result(\u001b[38;5;28mself\u001b[39m._policy.on_request, request)\n\u001b[32m     97\u001b[39m \u001b[38;5;28;01mtry\u001b[39;00m:\n\u001b[32m---> \u001b[39m\u001b[32m98\u001b[39m     response = \u001b[38;5;28;43mself\u001b[39;49m\u001b[43m.\u001b[49m\u001b[43mnext\u001b[49m\u001b[43m.\u001b[49m\u001b[43msend\u001b[49m\u001b[43m(\u001b[49m\u001b[43mrequest\u001b[49m\u001b[43m)\u001b[49m\n\u001b[32m     99\u001b[39m \u001b[38;5;28;01mexcept\u001b[39;00m \u001b[38;5;167;01mException\u001b[39;00m:\n\u001b[32m    100\u001b[39m     _await_result(\u001b[38;5;28mself\u001b[39m._policy.on_exception, request)\n",
      "\u001b[36mFile \u001b[39m\u001b[32mc:\\Users\\gusai\\AppData\\Local\\Programs\\Python\\Python311\\Lib\\site-packages\\azure\\core\\pipeline\\_base.py:98\u001b[39m, in \u001b[36m_SansIOHTTPPolicyRunner.send\u001b[39m\u001b[34m(self, request)\u001b[39m\n\u001b[32m     96\u001b[39m _await_result(\u001b[38;5;28mself\u001b[39m._policy.on_request, request)\n\u001b[32m     97\u001b[39m \u001b[38;5;28;01mtry\u001b[39;00m:\n\u001b[32m---> \u001b[39m\u001b[32m98\u001b[39m     response = \u001b[38;5;28;43mself\u001b[39;49m\u001b[43m.\u001b[49m\u001b[43mnext\u001b[49m\u001b[43m.\u001b[49m\u001b[43msend\u001b[49m\u001b[43m(\u001b[49m\u001b[43mrequest\u001b[49m\u001b[43m)\u001b[49m\n\u001b[32m     99\u001b[39m \u001b[38;5;28;01mexcept\u001b[39;00m \u001b[38;5;167;01mException\u001b[39;00m:\n\u001b[32m    100\u001b[39m     _await_result(\u001b[38;5;28mself\u001b[39m._policy.on_exception, request)\n",
      "    \u001b[31m[... skipping similar frames: _SansIOHTTPPolicyRunner.send at line 98 (1 times)]\u001b[39m\n",
      "\u001b[36mFile \u001b[39m\u001b[32mc:\\Users\\gusai\\AppData\\Local\\Programs\\Python\\Python311\\Lib\\site-packages\\azure\\core\\pipeline\\_base.py:98\u001b[39m, in \u001b[36m_SansIOHTTPPolicyRunner.send\u001b[39m\u001b[34m(self, request)\u001b[39m\n\u001b[32m     96\u001b[39m _await_result(\u001b[38;5;28mself\u001b[39m._policy.on_request, request)\n\u001b[32m     97\u001b[39m \u001b[38;5;28;01mtry\u001b[39;00m:\n\u001b[32m---> \u001b[39m\u001b[32m98\u001b[39m     response = \u001b[38;5;28;43mself\u001b[39;49m\u001b[43m.\u001b[49m\u001b[43mnext\u001b[49m\u001b[43m.\u001b[49m\u001b[43msend\u001b[49m\u001b[43m(\u001b[49m\u001b[43mrequest\u001b[49m\u001b[43m)\u001b[49m\n\u001b[32m     99\u001b[39m \u001b[38;5;28;01mexcept\u001b[39;00m \u001b[38;5;167;01mException\u001b[39;00m:\n\u001b[32m    100\u001b[39m     _await_result(\u001b[38;5;28mself\u001b[39m._policy.on_exception, request)\n",
      "\u001b[36mFile \u001b[39m\u001b[32mc:\\Users\\gusai\\AppData\\Local\\Programs\\Python\\Python311\\Lib\\site-packages\\azure\\core\\pipeline\\_base.py:130\u001b[39m, in \u001b[36m_TransportRunner.send\u001b[39m\u001b[34m(self, request)\u001b[39m\n\u001b[32m    120\u001b[39m \u001b[38;5;250m\u001b[39m\u001b[33;03m\"\"\"HTTP transport send method.\u001b[39;00m\n\u001b[32m    121\u001b[39m \n\u001b[32m    122\u001b[39m \u001b[33;03m:param request: The PipelineRequest object.\u001b[39;00m\n\u001b[32m   (...)\u001b[39m\u001b[32m    125\u001b[39m \u001b[33;03m:rtype: ~azure.core.pipeline.PipelineResponse\u001b[39;00m\n\u001b[32m    126\u001b[39m \u001b[33;03m\"\"\"\u001b[39;00m\n\u001b[32m    127\u001b[39m cleanup_kwargs_for_transport(request.context.options)\n\u001b[32m    128\u001b[39m \u001b[38;5;28;01mreturn\u001b[39;00m PipelineResponse(\n\u001b[32m    129\u001b[39m     request.http_request,\n\u001b[32m--> \u001b[39m\u001b[32m130\u001b[39m     \u001b[38;5;28;43mself\u001b[39;49m\u001b[43m.\u001b[49m\u001b[43m_sender\u001b[49m\u001b[43m.\u001b[49m\u001b[43msend\u001b[49m\u001b[43m(\u001b[49m\u001b[43mrequest\u001b[49m\u001b[43m.\u001b[49m\u001b[43mhttp_request\u001b[49m\u001b[43m,\u001b[49m\u001b[43m \u001b[49m\u001b[43m*\u001b[49m\u001b[43m*\u001b[49m\u001b[43mrequest\u001b[49m\u001b[43m.\u001b[49m\u001b[43mcontext\u001b[49m\u001b[43m.\u001b[49m\u001b[43moptions\u001b[49m\u001b[43m)\u001b[49m,\n\u001b[32m    131\u001b[39m     context=request.context,\n\u001b[32m    132\u001b[39m )\n",
      "\u001b[36mFile \u001b[39m\u001b[32mc:\\Users\\gusai\\AppData\\Local\\Programs\\Python\\Python311\\Lib\\site-packages\\azure\\core\\pipeline\\transport\\_requests_basic.py:411\u001b[39m, in \u001b[36mRequestsTransport.send\u001b[39m\u001b[34m(self, request, proxies, **kwargs)\u001b[39m\n\u001b[32m    408\u001b[39m     error = ServiceRequestError(err, error=err)\n\u001b[32m    410\u001b[39m \u001b[38;5;28;01mif\u001b[39;00m error:\n\u001b[32m--> \u001b[39m\u001b[32m411\u001b[39m     \u001b[38;5;28;01mraise\u001b[39;00m error\n\u001b[32m    412\u001b[39m \u001b[38;5;28;01mif\u001b[39;00m _is_rest(request):\n\u001b[32m    413\u001b[39m     \u001b[38;5;28;01mfrom\u001b[39;00m \u001b[34;01mazure\u001b[39;00m\u001b[34;01m.\u001b[39;00m\u001b[34;01mcore\u001b[39;00m\u001b[34;01m.\u001b[39;00m\u001b[34;01mrest\u001b[39;00m\u001b[34;01m.\u001b[39;00m\u001b[34;01m_requests_basic\u001b[39;00m \u001b[38;5;28;01mimport\u001b[39;00m RestRequestsTransportResponse\n",
      "\u001b[31mServiceRequestError\u001b[39m: Invalid URL '': No scheme supplied. Perhaps you meant https://?"
     ]
    }
   ],
   "source": [
    "load_dotenv('config.env')\n",
    "# OpenAI Client\n",
    "openai_api_key = os.getenv(\"OPENAI_API_KEY\")\n",
    "client = OpenAI(api_key=openai_api_key)\n",
    "\n",
    "\n",
    "# CosmosDB Client\n",
    "cosmosdb_endpoint = os.getenv(\"COSMOSDB_ENDPOINT\")\n",
    "cosmosdb_api_key = os.getenv(\"COSMOSDB_API_KEY\")\n",
    "cosmos_client = CosmosClient(cosmosdb_endpoint, cosmosdb_api_key)\n",
    "\n",
    "# Establish connection to specific DB and container within it\n",
    "database = cosmos_client.get_database_client('mydatabase')\n",
    "container = database.get_container_client('conversation')"
   ]
  },
  {
   "cell_type": "markdown",
   "id": "76406130",
   "metadata": {},
   "source": [
    "### Database functions\n",
    "Requirement\n",
    "- CosmosDB Container will have items with - id (mandat unique id of all items), session_id, user_id, conversation_history, last_updated datetime\n",
    "- Input will be user_id, session_id and message.\n",
    "- If entry already exist for user_id and session_id, append new message in convo history. else create a new entry/item in cosmosDB.\n"
   ]
  },
  {
   "cell_type": "code",
   "execution_count": 4,
   "id": "75c9b601",
   "metadata": {},
   "outputs": [],
   "source": [
    "from datetime import datetime, timezone\n",
    "import uuid"
   ]
  },
  {
   "cell_type": "code",
   "execution_count": 5,
   "id": "37ea868e",
   "metadata": {},
   "outputs": [],
   "source": [
    "# Fetch a specific session_id doc for user with user_id\n",
    "\n",
    "def get_session_doc(user_id, session_id):\n",
    "    query = f\"SELECT * FROM c WHERE c.user_id = '{user_id}' and c.session_id = '{session_id}'\"\n",
    "    items = list(container.query_items(query=query, enable_cross_partition_query=True))\n",
    "    return items[0] if items else None"
   ]
  },
  {
   "cell_type": "code",
   "execution_count": null,
   "id": "d6619153",
   "metadata": {},
   "outputs": [],
   "source": [
    "# create or update existing record conversation history\n",
    "MAX_HISTORY_MESSAGES = 50\n",
    "\n",
    "def save_conversation(user_id, session_id, role, content):\n",
    "\n",
    "    # check if session exist in DB\n",
    "    record = get_session_doc(user_id, session_id)\n",
    "\n",
    "    # if session do not exist, create new item\n",
    "    if not record:\n",
    "        new_item = {\n",
    "            \"id\": str(uuid.uuid4()),\n",
    "            \"user_id\": user_id,\n",
    "            \"session_id\": session_id,\n",
    "            \"conversation_history\": [\n",
    "                {\"role\":role, \"content\":content}\n",
    "            ],\n",
    "            \"last_updated\": datetime.now(timezone.utc).isoformat(timespec='milliseconds')\n",
    "        }\n",
    "        container.create_item(new_item)\n",
    "    else:\n",
    "        record['conversation_history'].append({\"role\":role, \"content\":content})\n",
    "\n",
    "        # Trim to last N messages\n",
    "        if len(record[\"conversation_history\"]) > MAX_HISTORY_MESSAGES:\n",
    "            record[\"conversation_history\"] = record[\"conversation_history\"][-MAX_HISTORY_MESSAGES:]\n",
    "            \n",
    "        record['last_updated'] = datetime.now(timezone.utc).isoformat(timespec='milliseconds')\n",
    "        container.replace_item(item=record['id'], body=record)"
   ]
  },
  {
   "cell_type": "code",
   "execution_count": 8,
   "id": "9960f51d",
   "metadata": {},
   "outputs": [],
   "source": [
    "# fetch conversation history\n",
    "\n",
    "def fetch_convo_history(user_id, session_id):\n",
    "    record = get_session_doc(user_id, session_id)\n",
    "    if record:\n",
    "        return record['conversation_history']\n",
    "    else:\n",
    "        return []"
   ]
  },
  {
   "cell_type": "markdown",
   "id": "b80cc628",
   "metadata": {},
   "source": [
    "### OpenAI assistant\n",
    "- With conversation history as context for response"
   ]
  },
  {
   "cell_type": "code",
   "execution_count": 9,
   "id": "a7b81c08",
   "metadata": {},
   "outputs": [],
   "source": [
    "def openai_response(user_id, session_id, system_prompt, human_prompt):\n",
    "    # Load existing convo history\n",
    "    conversation = fetch_convo_history(user_id, session_id)\n",
    "\n",
    "    # Add system prompt if first interaction\n",
    "    if not any(m[\"role\"] == \"system\" for m in conversation):\n",
    "        save_conversation(user_id, session_id, \"system\", system_prompt)\n",
    "        conversation.append({\"role\": \"system\", \"content\": system_prompt})\n",
    "\n",
    "    # Add new user message\n",
    "    save_conversation(user_id, session_id, \"user\", human_prompt)\n",
    "    conversation.append({\"role\": \"user\", \"content\": human_prompt})\n",
    "\n",
    "    # Call OpenAI with full conversation\n",
    "    response = client.chat.completions.create(\n",
    "        model='gpt-4o',\n",
    "        messages=conversation\n",
    "    )\n",
    "\n",
    "    reply = response.choices[0].message.content.strip()\n",
    "\n",
    "    # Save assistant reply\n",
    "    save_conversation(user_id, session_id, \"assistant\", reply)\n",
    "\n",
    "    return reply\n"
   ]
  },
  {
   "cell_type": "markdown",
   "id": "7c516575",
   "metadata": {},
   "source": [
    "### Test the Assistant"
   ]
  },
  {
   "cell_type": "code",
   "execution_count": 10,
   "id": "2a3a61bc",
   "metadata": {},
   "outputs": [],
   "source": [
    "user_id = \"test_user\"\n",
    "session_id = \"session_1\"\n",
    "system_prompt = \"You are a helpful QnA bot.\"\n",
    "user_query = \"What is the capital of India?\""
   ]
  },
  {
   "cell_type": "code",
   "execution_count": null,
   "id": "6314925a",
   "metadata": {},
   "outputs": [],
   "source": [
    "answer = openai_response(user_id, session_id, system_prompt, human_prompt=user_query)\n",
    "print(\"Bot:\", answer)"
   ]
  }
 ],
 "metadata": {
  "kernelspec": {
   "display_name": "Python 3",
   "language": "python",
   "name": "python3"
  },
  "language_info": {
   "codemirror_mode": {
    "name": "ipython",
    "version": 3
   },
   "file_extension": ".py",
   "mimetype": "text/x-python",
   "name": "python",
   "nbconvert_exporter": "python",
   "pygments_lexer": "ipython3",
   "version": "3.11.2"
  }
 },
 "nbformat": 4,
 "nbformat_minor": 5
}
