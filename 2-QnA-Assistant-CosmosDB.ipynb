{
 "cells": [
  {
   "cell_type": "markdown",
   "id": "51f8f91c",
   "metadata": {},
   "source": [
    "## QnA Assistant with Persistent Memory\n",
    "- This is follow-up of Part 1 of simple QnA Bot\n",
    "- Here we will be using Azure cosmosDB as memory to store conversation hostory."
   ]
  },
  {
   "cell_type": "code",
   "execution_count": 1,
   "id": "eb4d19bb",
   "metadata": {},
   "outputs": [],
   "source": [
    "# install azure cosmos package\n",
    "# %pip install azure-cosmos"
   ]
  },
  {
   "cell_type": "markdown",
   "id": "311407e4",
   "metadata": {},
   "source": [
    "### Import Libraries"
   ]
  },
  {
   "cell_type": "code",
   "execution_count": 2,
   "id": "b006c252",
   "metadata": {},
   "outputs": [],
   "source": [
    "import os, uuid, json\n",
    "from dotenv import load_dotenv\n",
    "from azure.cosmos import CosmosClient\n",
    "from openai import OpenAI"
   ]
  },
  {
   "cell_type": "markdown",
   "id": "804d731f",
   "metadata": {},
   "source": [
    "### Initialize Clients"
   ]
  },
  {
   "cell_type": "code",
   "execution_count": 11,
   "id": "a433055c",
   "metadata": {},
   "outputs": [],
   "source": [
    "load_dotenv('config.env')\n",
    "# OpenAI Client\n",
    "openai_api_key = os.getenv(\"OPENAI_API_KEY\")\n",
    "client = OpenAI(api_key=openai_api_key)\n",
    "\n",
    "\n",
    "# CosmosDB Client\n",
    "cosmosdb_endpoint = os.getenv(\"COSMOSDB_ENDPOINT\")\n",
    "cosmosdb_api_key = os.getenv(\"COSMOSDB_API_KEY\")\n",
    "cosmos_client = CosmosClient(cosmosdb_endpoint, cosmosdb_api_key)\n",
    "\n",
    "# Establish connection to specific DB and container within it\n",
    "database = cosmos_client.get_database_client('my-cosmodb1')\n",
    "container = database.get_container_client('conversations')"
   ]
  },
  {
   "cell_type": "markdown",
   "id": "76406130",
   "metadata": {},
   "source": [
    "### Database functions\n",
    "Requirement\n",
    "- CosmosDB Container will have items with - id (mandat unique id of all items), session_id, user_id, conversation_history, last_updated datetime\n",
    "- Input will be user_id, session_id and message.\n",
    "- If entry already exist for user_id and session_id, append new message in convo history. else create a new entry/item in cosmosDB.\n"
   ]
  },
  {
   "cell_type": "code",
   "execution_count": 12,
   "id": "75c9b601",
   "metadata": {},
   "outputs": [],
   "source": [
    "from datetime import datetime, timezone\n",
    "import uuid"
   ]
  },
  {
   "cell_type": "code",
   "execution_count": 13,
   "id": "37ea868e",
   "metadata": {},
   "outputs": [],
   "source": [
    "# Fetch a specific session_id doc for user with user_id\n",
    "\n",
    "def get_session_doc(user_id, session_id):\n",
    "    query = f\"SELECT * FROM c WHERE c.user_id = '{user_id}' and c.session_id = '{session_id}'\"\n",
    "    items = list(container.query_items(query=query, enable_cross_partition_query=True))\n",
    "    return items[0] if items else None"
   ]
  },
  {
   "cell_type": "code",
   "execution_count": 14,
   "id": "d6619153",
   "metadata": {},
   "outputs": [],
   "source": [
    "# create or update existing record conversation history\n",
    "MAX_HISTORY_MESSAGES = 50\n",
    "\n",
    "def save_conversation(user_id, session_id, role, content):\n",
    "\n",
    "    # check if session exist in DB\n",
    "    record = get_session_doc(user_id, session_id)\n",
    "\n",
    "    # if session do not exist, create new item\n",
    "    if not record:\n",
    "        new_item = {\n",
    "            \"id\": str(uuid.uuid4()),\n",
    "            \"user_id\": user_id,\n",
    "            \"session_id\": session_id,\n",
    "            \"conversation_history\": [\n",
    "                {\"role\":role, \"content\":content}\n",
    "            ],\n",
    "            \"last_updated\": datetime.now(timezone.utc).isoformat(timespec='milliseconds')\n",
    "        }\n",
    "        container.create_item(new_item)\n",
    "    else:\n",
    "        record['conversation_history'].append({\"role\":role, \"content\":content})\n",
    "\n",
    "        # Trim to last N messages\n",
    "        if len(record[\"conversation_history\"]) > MAX_HISTORY_MESSAGES:\n",
    "            record[\"conversation_history\"] = record[\"conversation_history\"][-MAX_HISTORY_MESSAGES:]\n",
    "            \n",
    "        record['last_updated'] = datetime.now(timezone.utc).isoformat(timespec='milliseconds')\n",
    "        container.replace_item(item=record['id'], body=record)"
   ]
  },
  {
   "cell_type": "code",
   "execution_count": 15,
   "id": "9960f51d",
   "metadata": {},
   "outputs": [],
   "source": [
    "# fetch conversation history\n",
    "\n",
    "def fetch_convo_history(user_id, session_id):\n",
    "    record = get_session_doc(user_id, session_id)\n",
    "    if record:\n",
    "        return record['conversation_history']\n",
    "    else:\n",
    "        return []"
   ]
  },
  {
   "cell_type": "markdown",
   "id": "b80cc628",
   "metadata": {},
   "source": [
    "### OpenAI assistant\n",
    "- With conversation history as context for response"
   ]
  },
  {
   "cell_type": "code",
   "execution_count": 16,
   "id": "a7b81c08",
   "metadata": {},
   "outputs": [],
   "source": [
    "def openai_response(user_id, session_id, system_prompt, human_prompt):\n",
    "    # Load existing convo history\n",
    "    conversation = fetch_convo_history(user_id, session_id)\n",
    "\n",
    "    # Add system prompt if first interaction\n",
    "    if not any(m[\"role\"] == \"system\" for m in conversation):\n",
    "        save_conversation(user_id, session_id, \"system\", system_prompt)\n",
    "        conversation.append({\"role\": \"system\", \"content\": system_prompt})\n",
    "\n",
    "    # Add new user message\n",
    "    save_conversation(user_id, session_id, \"user\", human_prompt)\n",
    "    conversation.append({\"role\": \"user\", \"content\": human_prompt})\n",
    "\n",
    "    # Call OpenAI with full conversation\n",
    "    response = client.chat.completions.create(\n",
    "        model='gpt-4o',\n",
    "        messages=conversation\n",
    "    )\n",
    "\n",
    "    reply = response.choices[0].message.content.strip()\n",
    "\n",
    "    # Save assistant reply\n",
    "    save_conversation(user_id, session_id, \"assistant\", reply)\n",
    "\n",
    "    return reply\n"
   ]
  },
  {
   "cell_type": "markdown",
   "id": "7c516575",
   "metadata": {},
   "source": [
    "### Test the Assistant"
   ]
  },
  {
   "cell_type": "code",
   "execution_count": 17,
   "id": "2a3a61bc",
   "metadata": {},
   "outputs": [],
   "source": [
    "user_id = \"test_user\"\n",
    "session_id = \"session_1\"\n",
    "system_prompt = \"You are a helpful QnA bot.\"\n",
    "user_query = \"What is the capital of India?\""
   ]
  },
  {
   "cell_type": "code",
   "execution_count": 18,
   "id": "6314925a",
   "metadata": {},
   "outputs": [
    {
     "name": "stdout",
     "output_type": "stream",
     "text": [
      "Bot: The capital of India is New Delhi.\n"
     ]
    }
   ],
   "source": [
    "answer = openai_response(user_id, session_id, system_prompt, human_prompt=user_query)\n",
    "print(\"Bot:\", answer)"
   ]
  },
  {
   "cell_type": "code",
   "execution_count": 19,
   "id": "cdf743ef",
   "metadata": {},
   "outputs": [],
   "source": [
    "user_id = \"test_user\"\n",
    "session_id = \"session_1\"\n",
    "system_prompt = \"You are a helpful QnA bot.\"\n",
    "user_query = \"and what's its national song name?\""
   ]
  },
  {
   "cell_type": "code",
   "execution_count": 20,
   "id": "8b784dcf",
   "metadata": {},
   "outputs": [
    {
     "name": "stdout",
     "output_type": "stream",
     "text": [
      "Bot: The national song of India is \"Vande Mataram.\"\n"
     ]
    }
   ],
   "source": [
    "answer = openai_response(user_id, session_id, system_prompt, human_prompt=user_query)\n",
    "print(\"Bot:\", answer)"
   ]
  },
  {
   "cell_type": "code",
   "execution_count": null,
   "id": "b7a1af6a",
   "metadata": {},
   "outputs": [],
   "source": []
  }
 ],
 "metadata": {
  "kernelspec": {
   "display_name": "Python 3",
   "language": "python",
   "name": "python3"
  },
  "language_info": {
   "codemirror_mode": {
    "name": "ipython",
    "version": 3
   },
   "file_extension": ".py",
   "mimetype": "text/x-python",
   "name": "python",
   "nbconvert_exporter": "python",
   "pygments_lexer": "ipython3",
   "version": "3.11.2"
  }
 },
 "nbformat": 4,
 "nbformat_minor": 5
}
