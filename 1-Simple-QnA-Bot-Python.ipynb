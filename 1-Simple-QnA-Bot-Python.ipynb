{
 "cells": [
  {
   "cell_type": "markdown",
   "id": "b5645441",
   "metadata": {},
   "source": [
    "## Simple QnA Bot using Python and OpenAI API"
   ]
  },
  {
   "cell_type": "code",
   "execution_count": 1,
   "id": "c6cbe554",
   "metadata": {},
   "outputs": [],
   "source": [
    "from dotenv import load_dotenv\n",
    "from openai import OpenAI\n",
    "import os"
   ]
  },
  {
   "cell_type": "code",
   "execution_count": null,
   "id": "ebf470d3",
   "metadata": {},
   "outputs": [],
   "source": [
    "load_dotenv('config.env')\n",
    "api_key = os.getenv('OPENAI_API_KEY')\n",
    "\n",
    "client = OpenAI(api_key=api_key)"
   ]
  },
  {
   "cell_type": "markdown",
   "id": "c1c9a59a",
   "metadata": {},
   "source": [
    "### Way 1 - Simple message field with system and user"
   ]
  },
  {
   "cell_type": "code",
   "execution_count": null,
   "id": "e63daa4e",
   "metadata": {},
   "outputs": [],
   "source": [
    "def llm_response(user_prompt):\n",
    "\n",
    "    messages = [\n",
    "        {\n",
    "            \"role\": \"system\",\n",
    "            \"content\": \"You are a helpful QnA bot\"\n",
    "        },\n",
    "        {\n",
    "            \"role\": \"user\",\n",
    "            \"content\": user_prompt\n",
    "        }\n",
    "    ]\n",
    "\n",
    "    response = client.chat.completions.create(\n",
    "        model = 'gpt-4o',\n",
    "        messages = messages\n",
    "    )\n",
    "\n",
    "    return response.choices[0].message.content"
   ]
  },
  {
   "cell_type": "code",
   "execution_count": null,
   "id": "232faf43",
   "metadata": {},
   "outputs": [
    {
     "name": "stdout",
     "output_type": "stream",
     "text": [
      "The capital of France is Paris.\n"
     ]
    }
   ],
   "source": [
    "query = \"What is the Capital of France?\"\n",
    "answer = llm_response(query)\n",
    "print(answer)"
   ]
  },
  {
   "cell_type": "markdown",
   "id": "9ea9d167",
   "metadata": {},
   "source": [
    "### Way 2 - using prompt engineering in separate functions"
   ]
  },
  {
   "cell_type": "code",
   "execution_count": 4,
   "id": "2ced71bb",
   "metadata": {},
   "outputs": [],
   "source": [
    "def bot_prompt(user_query):\n",
    "    system_prompt = \"\"\"\n",
    "    You are an expert in answer user query about general world knowledge.\n",
    "    Make sure the answers are short and crisp.\n",
    "    Do not hallucinate. If you don't know the answer, just say - \"I am not trained on this. I don't know the answer.\"\n",
    "    \"\"\"\n",
    "    human_prompt = \"\"\"\n",
    "    Understand the below question and answer precisely.\n",
    "    {0}\n",
    "    \"\"\".format(user_query)\n",
    "\n",
    "    return system_prompt, human_prompt"
   ]
  },
  {
   "cell_type": "code",
   "execution_count": null,
   "id": "25e33b18",
   "metadata": {},
   "outputs": [],
   "source": [
    "def openai_response(system_prompt, human_prompt):\n",
    "    messages = [\n",
    "        {\n",
    "            \"role\": \"system\",\n",
    "            \"content\": system_prompt\n",
    "        },\n",
    "        {\n",
    "            \"role\": \"user\",\n",
    "            \"content\": human_prompt\n",
    "        }\n",
    "    ]\n",
    "\n",
    "    response = client.chat.completions.create(\n",
    "        model = 'gpt-4o',\n",
    "        messages = messages\n",
    "    )\n",
    "\n",
    "    return response.choices[0].message.content\n",
    "    "
   ]
  },
  {
   "cell_type": "code",
   "execution_count": null,
   "id": "d8f37938",
   "metadata": {},
   "outputs": [],
   "source": [
    "user_query = \"Who is the CEO of Apple?\""
   ]
  },
  {
   "cell_type": "code",
   "execution_count": 5,
   "id": "554b3532",
   "metadata": {},
   "outputs": [],
   "source": [
    "system_prompt, human_prompt = bot_prompt(user_query)"
   ]
  },
  {
   "cell_type": "code",
   "execution_count": null,
   "id": "80883374",
   "metadata": {},
   "outputs": [],
   "source": [
    "result = openai_response(system_prompt, human_prompt)\n",
    "print(result)"
   ]
  },
  {
   "cell_type": "markdown",
   "id": "795ba4b5",
   "metadata": {},
   "source": [
    "### Adding Memory to the Bot\n",
    "- Below code is to have a session memory (within a session) - not so recommended.\n",
    "- Check persistent memory for accross sessions on next jupyter file."
   ]
  },
  {
   "cell_type": "code",
   "execution_count": 1,
   "id": "c970d3ce",
   "metadata": {},
   "outputs": [],
   "source": [
    "conversation = []\n",
    "\n",
    "def openai_response(system_prompt, human_prompt):\n",
    "\n",
    "    # Initialize conversation only once at start\n",
    "    if not conversation:  \n",
    "        conversation.append({\"role\": \"system\", \"content\": system_prompt})\n",
    "    \n",
    "    # Add the new user message\n",
    "    conversation.append({\"role\": \"user\", \"content\": human_prompt})\n",
    "\n",
    "    # Send the full conversation history\n",
    "    response = client.chat.completions.create(\n",
    "        model='gpt-4o',\n",
    "        messages=conversation\n",
    "    )\n",
    "\n",
    "    reply = response.choices[0].message.content\n",
    "\n",
    "    # Add assistant’s reply to memory\n",
    "    conversation.append({\"role\": \"assistant\", \"content\": reply})\n",
    "\n",
    "    return reply"
   ]
  },
  {
   "cell_type": "code",
   "execution_count": null,
   "id": "0c5c19d4",
   "metadata": {},
   "outputs": [],
   "source": []
  }
 ],
 "metadata": {
  "kernelspec": {
   "display_name": "Python 3",
   "language": "python",
   "name": "python3"
  },
  "language_info": {
   "codemirror_mode": {
    "name": "ipython",
    "version": 3
   },
   "file_extension": ".py",
   "mimetype": "text/x-python",
   "name": "python",
   "nbconvert_exporter": "python",
   "pygments_lexer": "ipython3",
   "version": "3.11.2"
  }
 },
 "nbformat": 4,
 "nbformat_minor": 5
}
